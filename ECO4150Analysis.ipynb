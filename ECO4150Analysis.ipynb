{
  "nbformat": 4,
  "nbformat_minor": 0,
  "metadata": {
    "colab": {
      "name": "ECO4150Analysis.ipynb",
      "provenance": [],
      "collapsed_sections": []
    },
    "kernelspec": {
      "name": "python3",
      "display_name": "Python 3"
    },
    "language_info": {
      "name": "python"
    }
  },
  "cells": [
    {
      "cell_type": "code",
      "metadata": {
        "colab": {
          "base_uri": "https://localhost:8080/"
        },
        "id": "qsaAMsOC9t1K",
        "outputId": "f7a3a143-c572-4a2f-b95c-ca7ea197b5ab"
      },
      "source": [
        "import matplotlib.pyplot as plt\n",
        "from matplotlib.pyplot import figure\n",
        "from google.colab import drive\n",
        "import statsmodels.api as sm\n",
        "import statsmodels.formula.api as smf\n",
        "import numpy as np\n",
        "import pandas as pd\n",
        "import sklearn.linear_model as skl_lm\n",
        "import seaborn as sns\n",
        "from sklearn.linear_model import LinearRegression\n",
        "from mpl_toolkits.mplot3d import Axes3D;\n",
        "from sklearn.datasets import make_blobs\n",
        "\n",
        "drive.mount('/content/drive') \n",
        "folerPath=\"/content/drive/MyDrive\"\n",
        "df=pd.read_csv('/content/drive/MyDrive/ECO4150Database-1.csv')#import file into colab\n",
        "columns = df.columns \n"
      ],
      "execution_count": null,
      "outputs": [
        {
          "output_type": "stream",
          "name": "stderr",
          "text": [
            "/usr/local/lib/python3.7/dist-packages/statsmodels/tools/_testing.py:19: FutureWarning: pandas.util.testing is deprecated. Use the functions in the public API at pandas.testing instead.\n",
            "  import pandas.util.testing as tm\n"
          ]
        },
        {
          "output_type": "stream",
          "name": "stdout",
          "text": [
            "Mounted at /content/drive\n"
          ]
        }
      ]
    },
    {
      "cell_type": "code",
      "metadata": {
        "colab": {
          "base_uri": "https://localhost:8080/",
          "height": 754
        },
        "id": "3uTyVnGz9_GJ",
        "outputId": "bfbc5766-e394-43ba-b0d6-2be5616aa63c"
      },
      "source": [
        "\n",
        "#Filling missing data as 0 in all columns\n",
        "print(\"In below figure, academic institutions researchers' have more people attend into Energy Modelling Initiative\")\n",
        "df.loc[df['Type']=='University','Type']='Academic'\n",
        "print(df.groupby('Type').size())\n",
        "sns.countplot(df['Type'],label=\"Count\")\n",
        "df.head()\n",
        "#Counting numbers of each type"
      ],
      "execution_count": null,
      "outputs": [
        {
          "output_type": "stream",
          "name": "stdout",
          "text": [
            "In below figure, academic institutions researchers' have more people attend into Energy Modelling Initiative\n",
            "Type\n",
            "Academic      54\n",
            "Company        6\n",
            "Consultant    22\n",
            "Government    38\n",
            "NGO           12\n",
            "Utilities     26\n",
            "dtype: int64\n"
          ]
        },
        {
          "output_type": "stream",
          "name": "stderr",
          "text": [
            "/usr/local/lib/python3.7/dist-packages/seaborn/_decorators.py:43: FutureWarning: Pass the following variable as a keyword arg: x. From version 0.12, the only valid positional argument will be `data`, and passing other arguments without an explicit keyword will result in an error or misinterpretation.\n",
            "  FutureWarning\n"
          ]
        },
        {
          "output_type": "execute_result",
          "data": {
            "text/html": [
              "<div>\n",
              "<style scoped>\n",
              "    .dataframe tbody tr th:only-of-type {\n",
              "        vertical-align: middle;\n",
              "    }\n",
              "\n",
              "    .dataframe tbody tr th {\n",
              "        vertical-align: top;\n",
              "    }\n",
              "\n",
              "    .dataframe thead th {\n",
              "        text-align: right;\n",
              "    }\n",
              "</style>\n",
              "<table border=\"1\" class=\"dataframe\">\n",
              "  <thead>\n",
              "    <tr style=\"text-align: right;\">\n",
              "      <th></th>\n",
              "      <th>Name</th>\n",
              "      <th>Publications</th>\n",
              "      <th>Number of Reads</th>\n",
              "      <th>Citations</th>\n",
              "      <th>Projects</th>\n",
              "      <th>Type</th>\n",
              "      <th>Source</th>\n",
              "    </tr>\n",
              "  </thead>\n",
              "  <tbody>\n",
              "    <tr>\n",
              "      <th>0</th>\n",
              "      <td>Mohammadreza Ahang</td>\n",
              "      <td>5.0</td>\n",
              "      <td>35908.0</td>\n",
              "      <td>15.0</td>\n",
              "      <td>1.0</td>\n",
              "      <td>Academic</td>\n",
              "      <td>ResearchGate</td>\n",
              "    </tr>\n",
              "    <tr>\n",
              "      <th>1</th>\n",
              "      <td>Reza Arjmand</td>\n",
              "      <td>3.0</td>\n",
              "      <td>NaN</td>\n",
              "      <td>17.0</td>\n",
              "      <td>NaN</td>\n",
              "      <td>Academic</td>\n",
              "      <td>Google Scholar</td>\n",
              "    </tr>\n",
              "    <tr>\n",
              "      <th>2</th>\n",
              "      <td>Viviane Aubin</td>\n",
              "      <td>2.0</td>\n",
              "      <td>20.0</td>\n",
              "      <td>0.0</td>\n",
              "      <td>NaN</td>\n",
              "      <td>Utilities</td>\n",
              "      <td>ResearchGate</td>\n",
              "    </tr>\n",
              "    <tr>\n",
              "      <th>3</th>\n",
              "      <td>Alison Bailie</td>\n",
              "      <td>3.0</td>\n",
              "      <td>135.0</td>\n",
              "      <td>16.0</td>\n",
              "      <td>NaN</td>\n",
              "      <td>Government</td>\n",
              "      <td>ResearchGate</td>\n",
              "    </tr>\n",
              "    <tr>\n",
              "      <th>4</th>\n",
              "      <td>Sahand Behboodi</td>\n",
              "      <td>16.0</td>\n",
              "      <td>2653.0</td>\n",
              "      <td>359.0</td>\n",
              "      <td>NaN</td>\n",
              "      <td>Company</td>\n",
              "      <td>ResearchGate</td>\n",
              "    </tr>\n",
              "  </tbody>\n",
              "</table>\n",
              "</div>"
            ],
            "text/plain": [
              "                 Name  Publications  ...        Type          Source\n",
              "0  Mohammadreza Ahang           5.0  ...    Academic    ResearchGate\n",
              "1        Reza Arjmand           3.0  ...    Academic  Google Scholar\n",
              "2       Viviane Aubin           2.0  ...   Utilities    ResearchGate\n",
              "3       Alison Bailie           3.0  ...  Government    ResearchGate\n",
              "4     Sahand Behboodi          16.0  ...     Company    ResearchGate\n",
              "\n",
              "[5 rows x 7 columns]"
            ]
          },
          "metadata": {},
          "execution_count": 4
        },
        {
          "output_type": "display_data",
          "data": {
            "image/png": "[encoded data removed]",
            "text/plain": [
              "<Figure size 432x288 with 1 Axes>"
            ]
          },
          "metadata": {
            "needs_background": "light"
          }
        }
      ]
    },
    {
      "cell_type": "code",
      "metadata": {
        "colab": {
          "base_uri": "https://localhost:8080/"
        },
        "id": "HUj2fdqrN6HP",
        "outputId": "6f765cbc-ff3f-446d-c7ba-46de4188a5da"
      },
      "source": [
        "#df['Publications']=df['Publications'].fillna(0)\n",
        "#df['Number of Reads']=df['Number of Reads'].fillna(0)\n",
        "#df['Citations']=df['Citations'].fillna(0)\n",
        "#df['Projects']=df['Projects'].fillna(0)\n",
        "#print(\"Count numbers of Institution Type of Academaic not null value\")\n",
        "#df = df[df['Publications'].notnull()]\n",
        "print('There are 94%(51 out of 54) people have their articles posted on website in type of Academic')\n",
        "df.loc[df['Type']=='Academic'].count()\n"
      ],
      "execution_count": null,
      "outputs": [
        {
          "output_type": "stream",
          "name": "stdout",
          "text": [
            "There are 94%(51 out of 54) people have their articles posted on website in type of Academic\n"
          ]
        },
        {
          "output_type": "execute_result",
          "data": {
            "text/plain": [
              "Name               54\n",
              "Publications       51\n",
              "Number of Reads    23\n",
              "Citations          50\n",
              "Projects           17\n",
              "Type               54\n",
              "Source             42\n",
              "dtype: int64"
            ]
          },
          "metadata": {},
          "execution_count": 5
        }
      ]
    },
    {
      "cell_type": "code",
      "metadata": {
        "colab": {
          "base_uri": "https://localhost:8080/"
        },
        "id": "odAN-lm7TCHm",
        "outputId": "0e2548dc-c20f-45dd-c025-d418474bd5f6"
      },
      "source": [
        "print('There are only 42%(11 out of 26) people have their articles posted on website in type of Utilities')\n",
        "df.loc[df['Type']=='Utilities'].count()"
      ],
      "execution_count": null,
      "outputs": [
        {
          "output_type": "stream",
          "name": "stdout",
          "text": [
            "There are only 42%(11 out of 26) people have their articles posted on website in type of Utilities\n"
          ]
        },
        {
          "output_type": "execute_result",
          "data": {
            "text/plain": [
              "Name               26\n",
              "Publications       11\n",
              "Number of Reads     5\n",
              "Citations          10\n",
              "Projects            4\n",
              "Type               26\n",
              "Source             10\n",
              "dtype: int64"
            ]
          },
          "metadata": {},
          "execution_count": 6
        }
      ]
    },
    {
      "cell_type": "code",
      "metadata": {
        "colab": {
          "base_uri": "https://localhost:8080/"
        },
        "id": "-KE5QOg6S3Qx",
        "outputId": "f0bef4bd-0b9e-40cf-96ea-dc5ed482c5d5"
      },
      "source": [
        "print('There are only 53% (20 out of 38) people have their articles posted on website in type of Government')\n",
        "df.loc[df['Type']=='Government'].count()"
      ],
      "execution_count": null,
      "outputs": [
        {
          "output_type": "stream",
          "name": "stdout",
          "text": [
            "There are only 53% (20 out of 38) people have their articles posted on website in type of Government\n"
          ]
        },
        {
          "output_type": "execute_result",
          "data": {
            "text/plain": [
              "Name               38\n",
              "Publications       20\n",
              "Number of Reads     8\n",
              "Citations          18\n",
              "Projects            5\n",
              "Type               38\n",
              "Source             18\n",
              "dtype: int64"
            ]
          },
          "metadata": {},
          "execution_count": 9
        }
      ]
    },
    {
      "cell_type": "code",
      "metadata": {
        "colab": {
          "base_uri": "https://localhost:8080/"
        },
        "id": "Pis4zq2JTUTB",
        "outputId": "90a398d1-d542-43a8-8a27-d7987f8f9178"
      },
      "source": [
        "print('There are only 50%(3 out of 6) people have their articles posted on website in type of Company')\n",
        "df.loc[df['Type']=='Company'].count()"
      ],
      "execution_count": null,
      "outputs": [
        {
          "output_type": "stream",
          "name": "stdout",
          "text": [
            "There are only 50%(3 out of 6) people have their articles posted on website in type of Company\n"
          ]
        },
        {
          "output_type": "execute_result",
          "data": {
            "text/plain": [
              "Name               6\n",
              "Publications       3\n",
              "Number of Reads    2\n",
              "Citations          3\n",
              "Projects           1\n",
              "Type               6\n",
              "Source             3\n",
              "dtype: int64"
            ]
          },
          "metadata": {},
          "execution_count": 14
        }
      ]
    },
    {
      "cell_type": "code",
      "metadata": {
        "colab": {
          "base_uri": "https://localhost:8080/"
        },
        "id": "mH6_lAb3Tb8k",
        "outputId": "55c38864-10b8-4474-eb0e-fd8e16aafc29"
      },
      "source": [
        "print('There are only 54%(12 out of 22) people have their articles posted on website in type of Consultant')\n",
        "df.loc[df['Type']=='Consultant'].count()"
      ],
      "execution_count": null,
      "outputs": [
        {
          "output_type": "stream",
          "name": "stdout",
          "text": [
            "There are only 54%(12 out of 22) people have their articles posted on website in type of Consultant\n"
          ]
        },
        {
          "output_type": "execute_result",
          "data": {
            "text/plain": [
              "Name               22\n",
              "Publications       12\n",
              "Number of Reads     3\n",
              "Citations          11\n",
              "Projects            3\n",
              "Type               22\n",
              "Source             10\n",
              "dtype: int64"
            ]
          },
          "metadata": {},
          "execution_count": 13
        }
      ]
    },
    {
      "cell_type": "code",
      "metadata": {
        "colab": {
          "base_uri": "https://localhost:8080/"
        },
        "id": "Oh_2aedkTXqe",
        "outputId": "d2ceb987-2850-41e4-80ca-3b2b27f7fb4b"
      },
      "source": [
        "\n",
        "print('There are only 58%(7 out of 12) people have their articles posted on website in type of NGO')\n",
        "df.loc[df['Type']=='NGO'].count()"
      ],
      "execution_count": null,
      "outputs": [
        {
          "output_type": "stream",
          "name": "stdout",
          "text": [
            "There are only 58%(7 out of 12) people have their articles posted on website in type of NGO\n"
          ]
        },
        {
          "output_type": "execute_result",
          "data": {
            "text/plain": [
              "Name               12\n",
              "Publications        7\n",
              "Number of Reads     1\n",
              "Citations           6\n",
              "Projects            0\n",
              "Type               12\n",
              "Source              5\n",
              "dtype: int64"
            ]
          },
          "metadata": {},
          "execution_count": 15
        }
      ]
    },
    {
      "cell_type": "markdown",
      "metadata": {
        "id": "sIpopSQ7VXI2"
      },
      "source": [
        "Based on above analysis, researchers who are belongs to academic institutions have highest exposure rate of their articles.\n",
        "\n",
        "The lowest exposure rate is researchers who are belons to utilites institutions.\n",
        "\n",
        "Due to the other types do not have enough data to support the opinion. \n",
        "The projects which researchers attended classified by different type of institutions. \n",
        "Academic institutions still have highest projects attendance compare to others. \n"
      ]
    },
    {
      "cell_type": "code",
      "metadata": {
        "colab": {
          "base_uri": "https://localhost:8080/"
        },
        "id": "XUPXOj7dXAqP",
        "outputId": "16afff4a-ce1e-46cf-d949-0cc6ff502313"
      },
      "source": [
        "print(df.groupby('Source').size())\n"
      ],
      "execution_count": null,
      "outputs": [
        {
          "output_type": "stream",
          "name": "stdout",
          "text": [
            "Source\n",
            "Google Scholar    47\n",
            "ResearchGate      41\n",
            "dtype: int64\n"
          ]
        }
      ]
    },
    {
      "cell_type": "code",
      "metadata": {
        "colab": {
          "base_uri": "https://localhost:8080/",
          "height": 571
        },
        "id": "0ynMQSGOX2RH",
        "outputId": "f2b410ec-488e-4cec-ff15-400caf228d18"
      },
      "source": [
        "df['Number of Reads']=df['Number of Reads'].fillna(0)\n",
        "df.rename(columns={'Number of Reads':'Reads'},inplace=True)\n",
        "df['Projects']=df['Projects'].fillna(0)\n",
        "df['Citations']=df['Citations'].fillna(0)\n",
        "df=df.drop(df[df.Citations==0].index)\n",
        "df"
      ],
      "execution_count": null,
      "outputs": [
        {
          "output_type": "execute_result",
          "data": {
            "text/html": [
              "<div>\n",
              "<style scoped>\n",
              "    .dataframe tbody tr th:only-of-type {\n",
              "        vertical-align: middle;\n",
              "    }\n",
              "\n",
              "    .dataframe tbody tr th {\n",
              "        vertical-align: top;\n",
              "    }\n",
              "\n",
              "    .dataframe thead th {\n",
              "        text-align: right;\n",
              "    }\n",
              "</style>\n",
              "<table border=\"1\" class=\"dataframe\">\n",
              "  <thead>\n",
              "    <tr style=\"text-align: right;\">\n",
              "      <th></th>\n",
              "      <th>Name</th>\n",
              "      <th>Publications</th>\n",
              "      <th>Reads</th>\n",
              "      <th>Citations</th>\n",
              "      <th>Projects</th>\n",
              "      <th>Type</th>\n",
              "      <th>Source</th>\n",
              "    </tr>\n",
              "  </thead>\n",
              "  <tbody>\n",
              "    <tr>\n",
              "      <th>0</th>\n",
              "      <td>Mohammadreza Ahang</td>\n",
              "      <td>5.0</td>\n",
              "      <td>35908.0</td>\n",
              "      <td>15.0</td>\n",
              "      <td>1.0</td>\n",
              "      <td>University</td>\n",
              "      <td>ResearchGate</td>\n",
              "    </tr>\n",
              "    <tr>\n",
              "      <th>1</th>\n",
              "      <td>Reza Arjmand</td>\n",
              "      <td>3.0</td>\n",
              "      <td>0.0</td>\n",
              "      <td>17.0</td>\n",
              "      <td>0.0</td>\n",
              "      <td>University</td>\n",
              "      <td>Google Scholar</td>\n",
              "    </tr>\n",
              "    <tr>\n",
              "      <th>3</th>\n",
              "      <td>Alison Bailie</td>\n",
              "      <td>3.0</td>\n",
              "      <td>135.0</td>\n",
              "      <td>16.0</td>\n",
              "      <td>0.0</td>\n",
              "      <td>Government</td>\n",
              "      <td>ResearchGate</td>\n",
              "    </tr>\n",
              "    <tr>\n",
              "      <th>4</th>\n",
              "      <td>Sahand Behboodi</td>\n",
              "      <td>16.0</td>\n",
              "      <td>2653.0</td>\n",
              "      <td>359.0</td>\n",
              "      <td>0.0</td>\n",
              "      <td>Company</td>\n",
              "      <td>ResearchGate</td>\n",
              "    </tr>\n",
              "    <tr>\n",
              "      <th>7</th>\n",
              "      <td>Jean-Thomas Bernard</td>\n",
              "      <td>155.0</td>\n",
              "      <td>4956.0</td>\n",
              "      <td>947.0</td>\n",
              "      <td>4.0</td>\n",
              "      <td>University</td>\n",
              "      <td>ResearchGate</td>\n",
              "    </tr>\n",
              "    <tr>\n",
              "      <th>...</th>\n",
              "      <td>...</td>\n",
              "      <td>...</td>\n",
              "      <td>...</td>\n",
              "      <td>...</td>\n",
              "      <td>...</td>\n",
              "      <td>...</td>\n",
              "      <td>...</td>\n",
              "    </tr>\n",
              "    <tr>\n",
              "      <th>152</th>\n",
              "      <td>Greg Young-Morris</td>\n",
              "      <td>3.0</td>\n",
              "      <td>264.0</td>\n",
              "      <td>42.0</td>\n",
              "      <td>0.0</td>\n",
              "      <td>Utilities</td>\n",
              "      <td>ResearchGate</td>\n",
              "    </tr>\n",
              "    <tr>\n",
              "      <th>153</th>\n",
              "      <td>Danilo Yu</td>\n",
              "      <td>5.0</td>\n",
              "      <td>369.0</td>\n",
              "      <td>15.0</td>\n",
              "      <td>0.0</td>\n",
              "      <td>University</td>\n",
              "      <td>ResearchGate</td>\n",
              "    </tr>\n",
              "    <tr>\n",
              "      <th>155</th>\n",
              "      <td>Hamid Zareipour</td>\n",
              "      <td>168.0</td>\n",
              "      <td>0.0</td>\n",
              "      <td>9742.0</td>\n",
              "      <td>0.0</td>\n",
              "      <td>University</td>\n",
              "      <td>Google Scholar</td>\n",
              "    </tr>\n",
              "    <tr>\n",
              "      <th>156</th>\n",
              "      <td>Peter Zerek</td>\n",
              "      <td>1.0</td>\n",
              "      <td>0.0</td>\n",
              "      <td>1.0</td>\n",
              "      <td>0.0</td>\n",
              "      <td>Government</td>\n",
              "      <td>Google Scholar</td>\n",
              "    </tr>\n",
              "    <tr>\n",
              "      <th>157</th>\n",
              "      <td>Naomi Zimmerman</td>\n",
              "      <td>32.0</td>\n",
              "      <td>7169.0</td>\n",
              "      <td>854.0</td>\n",
              "      <td>1.0</td>\n",
              "      <td>University</td>\n",
              "      <td>ResearchGate</td>\n",
              "    </tr>\n",
              "  </tbody>\n",
              "</table>\n",
              "<p>91 rows × 7 columns</p>\n",
              "</div>"
            ],
            "text/plain": [
              "                    Name  Publications  ...        Type          Source\n",
              "0     Mohammadreza Ahang           5.0  ...  University    ResearchGate\n",
              "1           Reza Arjmand           3.0  ...  University  Google Scholar\n",
              "3          Alison Bailie           3.0  ...  Government    ResearchGate\n",
              "4        Sahand Behboodi          16.0  ...     Company    ResearchGate\n",
              "7    Jean-Thomas Bernard         155.0  ...  University    ResearchGate\n",
              "..                   ...           ...  ...         ...             ...\n",
              "152    Greg Young-Morris           3.0  ...   Utilities    ResearchGate\n",
              "153            Danilo Yu           5.0  ...  University    ResearchGate\n",
              "155      Hamid Zareipour         168.0  ...  University  Google Scholar\n",
              "156          Peter Zerek           1.0  ...  Government  Google Scholar\n",
              "157      Naomi Zimmerman          32.0  ...  University    ResearchGate\n",
              "\n",
              "[91 rows x 7 columns]"
            ]
          },
          "metadata": {},
          "execution_count": 3
        }
      ]
    },
    {
      "cell_type": "code",
      "metadata": {
        "colab": {
          "base_uri": "https://localhost:8080/",
          "height": 409
        },
        "id": "lS2G48HmIZO-",
        "outputId": "dc876222-d006-42f7-b5ca-c303661388b8"
      },
      "source": [
        "df=df.loc[:,['Publications','Reads','Citations','Projects','Type']]\n",
        "df=df.loc[~df['Citations'].isna()]\n",
        "df['citations']=np.log(df['Citations'])\n",
        "display(df.describe().T)\n",
        "df.head()"
      ],
      "execution_count": null,
      "outputs": [
        {
          "output_type": "display_data",
          "data": {
            "text/html": [
              "<div>\n",
              "<style scoped>\n",
              "    .dataframe tbody tr th:only-of-type {\n",
              "        vertical-align: middle;\n",
              "    }\n",
              "\n",
              "    .dataframe tbody tr th {\n",
              "        vertical-align: top;\n",
              "    }\n",
              "\n",
              "    .dataframe thead th {\n",
              "        text-align: right;\n",
              "    }\n",
              "</style>\n",
              "<table border=\"1\" class=\"dataframe\">\n",
              "  <thead>\n",
              "    <tr style=\"text-align: right;\">\n",
              "      <th></th>\n",
              "      <th>count</th>\n",
              "      <th>mean</th>\n",
              "      <th>std</th>\n",
              "      <th>min</th>\n",
              "      <th>25%</th>\n",
              "      <th>50%</th>\n",
              "      <th>75%</th>\n",
              "      <th>max</th>\n",
              "    </tr>\n",
              "  </thead>\n",
              "  <tbody>\n",
              "    <tr>\n",
              "      <th>Publications</th>\n",
              "      <td>91.0</td>\n",
              "      <td>55.362637</td>\n",
              "      <td>95.834871</td>\n",
              "      <td>1.0</td>\n",
              "      <td>5.000000</td>\n",
              "      <td>13.000000</td>\n",
              "      <td>52.000000</td>\n",
              "      <td>529.000000</td>\n",
              "    </tr>\n",
              "    <tr>\n",
              "      <th>Reads</th>\n",
              "      <td>91.0</td>\n",
              "      <td>2655.670330</td>\n",
              "      <td>7086.290627</td>\n",
              "      <td>0.0</td>\n",
              "      <td>0.000000</td>\n",
              "      <td>0.000000</td>\n",
              "      <td>1349.500000</td>\n",
              "      <td>40098.000000</td>\n",
              "    </tr>\n",
              "    <tr>\n",
              "      <th>Citations</th>\n",
              "      <td>91.0</td>\n",
              "      <td>1657.802198</td>\n",
              "      <td>4236.084569</td>\n",
              "      <td>1.0</td>\n",
              "      <td>31.500000</td>\n",
              "      <td>158.000000</td>\n",
              "      <td>782.500000</td>\n",
              "      <td>25572.000000</td>\n",
              "    </tr>\n",
              "    <tr>\n",
              "      <th>Projects</th>\n",
              "      <td>91.0</td>\n",
              "      <td>0.538462</td>\n",
              "      <td>1.222999</td>\n",
              "      <td>0.0</td>\n",
              "      <td>0.000000</td>\n",
              "      <td>0.000000</td>\n",
              "      <td>0.000000</td>\n",
              "      <td>6.000000</td>\n",
              "    </tr>\n",
              "    <tr>\n",
              "      <th>citations</th>\n",
              "      <td>91.0</td>\n",
              "      <td>5.186187</td>\n",
              "      <td>2.312490</td>\n",
              "      <td>0.0</td>\n",
              "      <td>3.449862</td>\n",
              "      <td>5.062595</td>\n",
              "      <td>6.658302</td>\n",
              "      <td>10.149253</td>\n",
              "    </tr>\n",
              "  </tbody>\n",
              "</table>\n",
              "</div>"
            ],
            "text/plain": [
              "              count         mean  ...          75%           max\n",
              "Publications   91.0    55.362637  ...    52.000000    529.000000\n",
              "Reads          91.0  2655.670330  ...  1349.500000  40098.000000\n",
              "Citations      91.0  1657.802198  ...   782.500000  25572.000000\n",
              "Projects       91.0     0.538462  ...     0.000000      6.000000\n",
              "citations      91.0     5.186187  ...     6.658302     10.149253\n",
              "\n",
              "[5 rows x 8 columns]"
            ]
          },
          "metadata": {}
        },
        {
          "output_type": "execute_result",
          "data": {
            "text/html": [
              "<div>\n",
              "<style scoped>\n",
              "    .dataframe tbody tr th:only-of-type {\n",
              "        vertical-align: middle;\n",
              "    }\n",
              "\n",
              "    .dataframe tbody tr th {\n",
              "        vertical-align: top;\n",
              "    }\n",
              "\n",
              "    .dataframe thead th {\n",
              "        text-align: right;\n",
              "    }\n",
              "</style>\n",
              "<table border=\"1\" class=\"dataframe\">\n",
              "  <thead>\n",
              "    <tr style=\"text-align: right;\">\n",
              "      <th></th>\n",
              "      <th>Publications</th>\n",
              "      <th>Reads</th>\n",
              "      <th>Citations</th>\n",
              "      <th>Projects</th>\n",
              "      <th>Type</th>\n",
              "      <th>citations</th>\n",
              "    </tr>\n",
              "  </thead>\n",
              "  <tbody>\n",
              "    <tr>\n",
              "      <th>0</th>\n",
              "      <td>5.0</td>\n",
              "      <td>35908.0</td>\n",
              "      <td>15.0</td>\n",
              "      <td>1.0</td>\n",
              "      <td>University</td>\n",
              "      <td>2.708050</td>\n",
              "    </tr>\n",
              "    <tr>\n",
              "      <th>1</th>\n",
              "      <td>3.0</td>\n",
              "      <td>0.0</td>\n",
              "      <td>17.0</td>\n",
              "      <td>0.0</td>\n",
              "      <td>University</td>\n",
              "      <td>2.833213</td>\n",
              "    </tr>\n",
              "    <tr>\n",
              "      <th>3</th>\n",
              "      <td>3.0</td>\n",
              "      <td>135.0</td>\n",
              "      <td>16.0</td>\n",
              "      <td>0.0</td>\n",
              "      <td>Government</td>\n",
              "      <td>2.772589</td>\n",
              "    </tr>\n",
              "    <tr>\n",
              "      <th>4</th>\n",
              "      <td>16.0</td>\n",
              "      <td>2653.0</td>\n",
              "      <td>359.0</td>\n",
              "      <td>0.0</td>\n",
              "      <td>Company</td>\n",
              "      <td>5.883322</td>\n",
              "    </tr>\n",
              "    <tr>\n",
              "      <th>7</th>\n",
              "      <td>155.0</td>\n",
              "      <td>4956.0</td>\n",
              "      <td>947.0</td>\n",
              "      <td>4.0</td>\n",
              "      <td>University</td>\n",
              "      <td>6.853299</td>\n",
              "    </tr>\n",
              "  </tbody>\n",
              "</table>\n",
              "</div>"
            ],
            "text/plain": [
              "   Publications    Reads  Citations  Projects        Type  citations\n",
              "0           5.0  35908.0       15.0       1.0  University   2.708050\n",
              "1           3.0      0.0       17.0       0.0  University   2.833213\n",
              "3           3.0    135.0       16.0       0.0  Government   2.772589\n",
              "4          16.0   2653.0      359.0       0.0     Company   5.883322\n",
              "7         155.0   4956.0      947.0       4.0  University   6.853299"
            ]
          },
          "metadata": {},
          "execution_count": 4
        }
      ]
    },
    {
      "cell_type": "code",
      "metadata": {
        "colab": {
          "base_uri": "https://localhost:8080/",
          "height": 283
        },
        "id": "n2MjOcg-GTwu",
        "outputId": "14a8cb5c-7e63-410b-f411-cbf09af22d08"
      },
      "source": [
        "from sklearn.linear_model import LinearRegression\n",
        "plt.scatter(df.Publications,df.Citations,s=30,c='red',marker='o',alpha=0.9,linewidths=0.3,label='Observations')\n",
        "reg = LinearRegression().fit(df.Publications.values.reshape(-1,1), df.Citations)\n",
        "pred=reg.predict(df.Publications.values.reshape(-1,1))\n",
        "plt.plot(df.Publications,pred,linewidth=2,label='RegressionLine')\n",
        "plt.xlabel('Publications')\n",
        "plt.ylabel('Citations')\n",
        "plt.tick_params(top='off',right='off')\n",
        "plt.legend(loc='upper left')\n",
        "plt.show()"
      ],
      "execution_count": null,
      "outputs": [
        {
          "output_type": "display_data",
          "data": {
            "image/png": "[encoded data removed]",
            "text/plain": [
              "<Figure size 432x288 with 1 Axes>"
            ]
          },
          "metadata": {
            "needs_background": "light"
          }
        }
      ]
    },
    {
      "cell_type": "code",
      "metadata": {
        "colab": {
          "base_uri": "https://localhost:8080/",
          "height": 283
        },
        "id": "-1LfjCIYIAS5",
        "outputId": "087b8101-5423-4b52-d4df-49acd690c57c"
      },
      "source": [
        "from sklearn.linear_model import LinearRegression\n",
        "plt.scatter(df.Publications,df.Citations,s=30,c='red',marker='o',alpha=0.9,linewidths=0.3,label='Observations')\n",
        "reg = LinearRegression().fit(df.Reads.values.reshape(-1,1), df.Citations)\n",
        "pred=reg.predict(df.Reads.values.reshape(-1,1))\n",
        "plt.plot(df.Reads,pred,linewidth=2,label='RegressionLine')\n",
        "plt.xlabel('Reads')\n",
        "plt.ylabel('Citations')\n",
        "plt.tick_params(top='off',right='off')\n",
        "plt.legend(loc='upper left')\n",
        "plt.show()\n",
        "\n",
        "# Because it is flat line, hence Number of Reads has no ability to predict anything\n"
      ],
      "execution_count": null,
      "outputs": [
        {
          "output_type": "display_data",
          "data": {
            "image/png": "[encoded data removed]",
            "text/plain": [
              "<Figure size 432x288 with 1 Axes>"
            ]
          },
          "metadata": {
            "needs_background": "light"
          }
        }
      ]
    },
    {
      "cell_type": "code",
      "metadata": {
        "colab": {
          "base_uri": "https://localhost:8080/",
          "height": 764
        },
        "id": "E-MNBgFvIc1a",
        "outputId": "ec1f1f95-6c4a-4170-803e-3f6b862e6ed5"
      },
      "source": [
        "#How about combine both of them together?\n",
        "\n",
        "# Get estimates\n",
        "#Get estimates\n",
        "regr=skl_lm.LinearRegression()\n",
        "X = df[['Publications', 'Reads']]\n",
        "y = df.Citations\n",
        "regr.fit(X,y)\n",
        "print(regr.coef_)\n",
        "print(regr.intercept_)\n",
        "\n",
        "# What are the min/max values of Radio & TV?\n",
        "# Use these values to set up the grid for plotting.\n",
        "display(df[['Publications', 'Reads']].describe())\n",
        "\n",
        "# Create a coordinate grid\n",
        "Publications = np.arange(0,50)\n",
        "Reads = np.arange(0,300)\n",
        "\n",
        "B1, B2 = np.meshgrid(Publications, Reads, indexing='xy')\n",
        "Z = np.zeros((Reads.size, Publications.size))\n",
        "\n",
        "for (i,j),v in np.ndenumerate(Z):\n",
        "        Z[i,j] =(regr.intercept_ + B1[i,j]*regr.coef_[0] + B2[i,j]*regr.coef_[1])\n",
        "\n",
        "# Create plot\n",
        "fig = plt.figure(figsize=(10,6))\n",
        "fig.suptitle('Regression: Citations ~ Publications + Reads', fontsize=20)\n",
        "\n",
        "ax = Axes3D(fig)\n",
        "\n",
        "ax.plot_surface(B1, B2, Z, rstride=10, cstride=5, alpha=0.4)\n",
        "ax.scatter3D(df.Publications, df.Reads, df.Citations, c='r')\n",
        "\n",
        "ax.set_xlabel('Publications')\n",
        "ax.set_xlim(0,50)\n",
        "ax.set_ylabel('Reads')\n",
        "ax.set_ylim(ymin=0)\n",
        "ax.set_zlabel('Citations')\n",
        "plt.show()"
      ],
      "execution_count": null,
      "outputs": [
        {
          "output_type": "stream",
          "name": "stdout",
          "text": [
            "[31.06448134 -0.04685839]\n",
            "62.43102546460091\n"
          ]
        },
        {
          "output_type": "display_data",
          "data": {
            "text/html": [
              "<div>\n",
              "<style scoped>\n",
              "    .dataframe tbody tr th:only-of-type {\n",
              "        vertical-align: middle;\n",
              "    }\n",
              "\n",
              "    .dataframe tbody tr th {\n",
              "        vertical-align: top;\n",
              "    }\n",
              "\n",
              "    .dataframe thead th {\n",
              "        text-align: right;\n",
              "    }\n",
              "</style>\n",
              "<table border=\"1\" class=\"dataframe\">\n",
              "  <thead>\n",
              "    <tr style=\"text-align: right;\">\n",
              "      <th></th>\n",
              "      <th>Publications</th>\n",
              "      <th>Reads</th>\n",
              "    </tr>\n",
              "  </thead>\n",
              "  <tbody>\n",
              "    <tr>\n",
              "      <th>count</th>\n",
              "      <td>91.000000</td>\n",
              "      <td>91.000000</td>\n",
              "    </tr>\n",
              "    <tr>\n",
              "      <th>mean</th>\n",
              "      <td>55.362637</td>\n",
              "      <td>2655.670330</td>\n",
              "    </tr>\n",
              "    <tr>\n",
              "      <th>std</th>\n",
              "      <td>95.834871</td>\n",
              "      <td>7086.290627</td>\n",
              "    </tr>\n",
              "    <tr>\n",
              "      <th>min</th>\n",
              "      <td>1.000000</td>\n",
              "      <td>0.000000</td>\n",
              "    </tr>\n",
              "    <tr>\n",
              "      <th>25%</th>\n",
              "      <td>5.000000</td>\n",
              "      <td>0.000000</td>\n",
              "    </tr>\n",
              "    <tr>\n",
              "      <th>50%</th>\n",
              "      <td>13.000000</td>\n",
              "      <td>0.000000</td>\n",
              "    </tr>\n",
              "    <tr>\n",
              "      <th>75%</th>\n",
              "      <td>52.000000</td>\n",
              "      <td>1349.500000</td>\n",
              "    </tr>\n",
              "    <tr>\n",
              "      <th>max</th>\n",
              "      <td>529.000000</td>\n",
              "      <td>40098.000000</td>\n",
              "    </tr>\n",
              "  </tbody>\n",
              "</table>\n",
              "</div>"
            ],
            "text/plain": [
              "       Publications         Reads\n",
              "count     91.000000     91.000000\n",
              "mean      55.362637   2655.670330\n",
              "std       95.834871   7086.290627\n",
              "min        1.000000      0.000000\n",
              "25%        5.000000      0.000000\n",
              "50%       13.000000      0.000000\n",
              "75%       52.000000   1349.500000\n",
              "max      529.000000  40098.000000"
            ]
          },
          "metadata": {}
        },
        {
          "output_type": "stream",
          "name": "stderr",
          "text": [
            "/usr/local/lib/python3.7/dist-packages/ipykernel_launcher.py:38: MatplotlibDeprecationWarning: \n",
            "The `ymin` argument was deprecated in Matplotlib 3.0 and will be removed in 3.2. Use `bottom` instead.\n"
          ]
        },
        {
          "output_type": "display_data",
          "data": {
            "image/png": "[encoded data removed]",
            "text/plain": [
              "<Figure size 720x432 with 1 Axes>"
            ]
          },
          "metadata": {
            "needs_background": "light"
          }
        }
      ]
    },
    {
      "cell_type": "code",
      "metadata": {
        "colab": {
          "base_uri": "https://localhost:8080/"
        },
        "id": "hEItX3p8LH-H",
        "outputId": "d8d2a054-588d-481a-90d8-0f44ab1073a1"
      },
      "source": [
        "results = smf.ols('Citations ~ Publications+Reads',data=df).fit()\n",
        "print(results.summary()) #OLS regression details for Citations related to Publications and Number of Reads"
      ],
      "execution_count": null,
      "outputs": [
        {
          "output_type": "stream",
          "name": "stdout",
          "text": [
            "                            OLS Regression Results                            \n",
            "==============================================================================\n",
            "Dep. Variable:              Citations   R-squared:                       0.485\n",
            "Model:                            OLS   Adj. R-squared:                  0.473\n",
            "Method:                 Least Squares   F-statistic:                     41.45\n",
            "Date:                Thu, 11 Nov 2021   Prob (F-statistic):           2.08e-13\n",
            "Time:                        04:09:15   Log-Likelihood:                -858.40\n",
            "No. Observations:                  91   AIC:                             1723.\n",
            "Df Residuals:                      88   BIC:                             1730.\n",
            "Df Model:                           2                                         \n",
            "Covariance Type:            nonrobust                                         \n",
            "================================================================================\n",
            "                   coef    std err          t      P>|t|      [0.025      0.975]\n",
            "--------------------------------------------------------------------------------\n",
            "Intercept       62.4310    385.065      0.162      0.872    -702.804     827.666\n",
            "Publications    31.0645      3.413      9.102      0.000      24.282      37.847\n",
            "Reads           -0.0469      0.046     -1.015      0.313      -0.139       0.045\n",
            "==============================================================================\n",
            "Omnibus:                       85.342   Durbin-Watson:                   1.953\n",
            "Prob(Omnibus):                  0.000   Jarque-Bera (JB):              941.719\n",
            "Skew:                           2.873   Prob(JB):                    3.22e-205\n",
            "Kurtosis:                      17.675   Cond. No.                     9.00e+03\n",
            "==============================================================================\n",
            "\n",
            "Warnings:\n",
            "[1] Standard Errors assume that the covariance matrix of the errors is correctly specified.\n",
            "[2] The condition number is large,  9e+03. This might indicate that there are\n",
            "strong multicollinearity or other numerical problems.\n"
          ]
        }
      ]
    },
    {
      "cell_type": "code",
      "metadata": {
        "colab": {
          "base_uri": "https://localhost:8080/",
          "height": 554
        },
        "id": "GvCzJa16O0v6",
        "outputId": "839e3de8-d016-483f-d1df-b7e292277ad8"
      },
      "source": [
        "# Import DecisionTreeClassifier\n",
        "from sklearn.tree  import DecisionTreeRegressor\n",
        "# Import train_test_split\n",
        "from sklearn.model_selection  import train_test_split\n",
        "# Import accuracy_score\n",
        "from sklearn.metrics import mean_squared_error\n",
        "from sklearn.tree import export_graphviz\n",
        "from sklearn import tree\n",
        "from IPython.display import SVG\n",
        "from graphviz import Source\n",
        "from IPython.display import display\n",
        "\n",
        "# Split dataset into 80% train, 20% test\n",
        "#\n",
        "X_train=df.loc[:,['Reads','Publications']]\n",
        "y_train=df.loc[:,'citations']\n",
        "# Instantiate dt\n",
        "dt = DecisionTreeRegressor(max_depth=3, random_state=1706)\n",
        "dt.fit(X_train,y_train)\n",
        "\n",
        "# Predict test set labels\n",
        "y_pred = dt.predict(X_train)\n",
        "# Evaluate test-set accuracy\n",
        "print(f\"In-sample MSE: {mean_squared_error(df['citations'], y_pred)}\")\n",
        "\n",
        "#store label name\n",
        "labels = X_train.columns.tolist()\n",
        "\n",
        "# print decision tree\n",
        "graph = Source(tree.export_graphviz(dt, out_file=None, feature_names=labels , filled = True))\n",
        "display(SVG(graph.pipe(format='svg')))"
      ],
      "execution_count": null,
      "outputs": [
        {
          "output_type": "stream",
          "name": "stdout",
          "text": [
            "In-sample MSE: 0.7713277281705173\n"
          ]
        },
        {
          "output_type": "display_data",
          "data": {
            "text/plain": [
              "<IPython.core.display.SVG object>"
            ],
            "image/svg+xml": "<svg height=\"373pt\" viewBox=\"0.00 0.00 1397.50 373.00\" width=\"1398pt\" xmlns=\"http://www.w3.org/2000/svg\" xmlns:xlink=\"http://www.w3.org/1999/xlink\">\n<g class=\"graph\" id=\"graph0\" transform=\"scale(1 1) rotate(0) translate(4 369)\">\n<title>Tree</title>\n<polygon fill=\"#ffffff\" points=\"-4,4 -4,-369 1393.5,-369 1393.5,4 -4,4\" stroke=\"transparent\"/>\n<!-- 0 -->\n<g class=\"node\" id=\"node1\">\n<title>0</title>\n<polygon fill=\"#f1bc96\" points=\"778.5,-365 617.5,-365 617.5,-297 778.5,-297 778.5,-365\" stroke=\"#000000\"/>\n<text fill=\"#000000\" font-family=\"Helvetica,sans-Serif\" font-size=\"14.00\" text-anchor=\"middle\" x=\"698\" y=\"-349.8\">Publications &lt;= 18.5</text>\n<text fill=\"#000000\" font-family=\"Helvetica,sans-Serif\" font-size=\"14.00\" text-anchor=\"middle\" x=\"698\" y=\"-334.8\">squared_error = 5.289</text>\n<text fill=\"#000000\" font-family=\"Helvetica,sans-Serif\" font-size=\"14.00\" text-anchor=\"middle\" x=\"698\" y=\"-319.8\">samples = 91</text>\n<text fill=\"#000000\" font-family=\"Helvetica,sans-Serif\" font-size=\"14.00\" text-anchor=\"middle\" x=\"698\" y=\"-304.8\">value = 5.186</text>\n</g>\n<!-- 1 -->\n<g class=\"node\" id=\"node2\">\n<title>1</title>\n<polygon fill=\"#f6d5bd\" points=\"599.5,-261 438.5,-261 438.5,-193 599.5,-193 599.5,-261\" stroke=\"#000000\"/>\n<text fill=\"#000000\" font-family=\"Helvetica,sans-Serif\" font-size=\"14.00\" text-anchor=\"middle\" x=\"519\" y=\"-245.8\">Publications &lt;= 4.5</text>\n<text fill=\"#000000\" font-family=\"Helvetica,sans-Serif\" font-size=\"14.00\" text-anchor=\"middle\" x=\"519\" y=\"-230.8\">squared_error = 2.027</text>\n<text fill=\"#000000\" font-family=\"Helvetica,sans-Serif\" font-size=\"14.00\" text-anchor=\"middle\" x=\"519\" y=\"-215.8\">samples = 55</text>\n<text fill=\"#000000\" font-family=\"Helvetica,sans-Serif\" font-size=\"14.00\" text-anchor=\"middle\" x=\"519\" y=\"-200.8\">value = 3.689</text>\n</g>\n<!-- 0&#45;&gt;1 -->\n<g class=\"edge\" id=\"edge1\">\n<title>0-&gt;1</title>\n<path d=\"M639.3887,-296.9465C622.5445,-287.1599 604.0364,-276.4066 586.692,-266.3294\" fill=\"none\" stroke=\"#000000\"/>\n<polygon fill=\"#000000\" points=\"588.1478,-263.1274 577.743,-261.13 584.6312,-269.18 588.1478,-263.1274\" stroke=\"#000000\"/>\n<text fill=\"#000000\" font-family=\"Helvetica,sans-Serif\" font-size=\"14.00\" text-anchor=\"middle\" x=\"584.1473\" y=\"-281.5958\">True</text>\n</g>\n<!-- 8 -->\n<g class=\"node\" id=\"node9\">\n<title>8</title>\n<polygon fill=\"#e9975b\" points=\"949.5,-261 788.5,-261 788.5,-193 949.5,-193 949.5,-261\" stroke=\"#000000\"/>\n<text fill=\"#000000\" font-family=\"Helvetica,sans-Serif\" font-size=\"14.00\" text-anchor=\"middle\" x=\"869\" y=\"-245.8\">Publications &lt;= 52.0</text>\n<text fill=\"#000000\" font-family=\"Helvetica,sans-Serif\" font-size=\"14.00\" text-anchor=\"middle\" x=\"869\" y=\"-230.8\">squared_error = 1.611</text>\n<text fill=\"#000000\" font-family=\"Helvetica,sans-Serif\" font-size=\"14.00\" text-anchor=\"middle\" x=\"869\" y=\"-215.8\">samples = 36</text>\n<text fill=\"#000000\" font-family=\"Helvetica,sans-Serif\" font-size=\"14.00\" text-anchor=\"middle\" x=\"869\" y=\"-200.8\">value = 7.474</text>\n</g>\n<!-- 0&#45;&gt;8 -->\n<g class=\"edge\" id=\"edge8\">\n<title>0-&gt;8</title>\n<path d=\"M753.9918,-296.9465C770.0832,-287.1599 787.7641,-276.4066 804.3334,-266.3294\" fill=\"none\" stroke=\"#000000\"/>\n<polygon fill=\"#000000\" points=\"806.1572,-269.3167 812.8824,-261.13 802.5198,-263.336 806.1572,-269.3167\" stroke=\"#000000\"/>\n<text fill=\"#000000\" font-family=\"Helvetica,sans-Serif\" font-size=\"14.00\" text-anchor=\"middle\" x=\"806.9646\" y=\"-281.7195\">False</text>\n</g>\n<!-- 2 -->\n<g class=\"node\" id=\"node3\">\n<title>2</title>\n<polygon fill=\"#fbe9dd\" points=\"331.5,-157 170.5,-157 170.5,-89 331.5,-89 331.5,-157\" stroke=\"#000000\"/>\n<text fill=\"#000000\" font-family=\"Helvetica,sans-Serif\" font-size=\"14.00\" text-anchor=\"middle\" x=\"251\" y=\"-141.8\">Publications &lt;= 1.5</text>\n<text fill=\"#000000\" font-family=\"Helvetica,sans-Serif\" font-size=\"14.00\" text-anchor=\"middle\" x=\"251\" y=\"-126.8\">squared_error = 1.819</text>\n<text fill=\"#000000\" font-family=\"Helvetica,sans-Serif\" font-size=\"14.00\" text-anchor=\"middle\" x=\"251\" y=\"-111.8\">samples = 18</text>\n<text fill=\"#000000\" font-family=\"Helvetica,sans-Serif\" font-size=\"14.00\" text-anchor=\"middle\" x=\"251\" y=\"-96.8\">value = 2.445</text>\n</g>\n<!-- 1&#45;&gt;2 -->\n<g class=\"edge\" id=\"edge2\">\n<title>1-&gt;2</title>\n<path d=\"M438.2277,-195.6555C407.6392,-183.7854 372.6322,-170.2005 341.2283,-158.014\" fill=\"none\" stroke=\"#000000\"/>\n<polygon fill=\"#000000\" points=\"342.1957,-154.6351 331.6068,-154.2803 339.6633,-161.161 342.1957,-154.6351\" stroke=\"#000000\"/>\n</g>\n<!-- 5 -->\n<g class=\"node\" id=\"node6\">\n<title>5</title>\n<polygon fill=\"#f4cbad\" points=\"595,-157 443,-157 443,-89 595,-89 595,-157\" stroke=\"#000000\"/>\n<text fill=\"#000000\" font-family=\"Helvetica,sans-Serif\" font-size=\"14.00\" text-anchor=\"middle\" x=\"519\" y=\"-141.8\">Publications &lt;= 9.5</text>\n<text fill=\"#000000\" font-family=\"Helvetica,sans-Serif\" font-size=\"14.00\" text-anchor=\"middle\" x=\"519\" y=\"-126.8\">squared_error = 1.01</text>\n<text fill=\"#000000\" font-family=\"Helvetica,sans-Serif\" font-size=\"14.00\" text-anchor=\"middle\" x=\"519\" y=\"-111.8\">samples = 37</text>\n<text fill=\"#000000\" font-family=\"Helvetica,sans-Serif\" font-size=\"14.00\" text-anchor=\"middle\" x=\"519\" y=\"-96.8\">value = 4.293</text>\n</g>\n<!-- 1&#45;&gt;5 -->\n<g class=\"edge\" id=\"edge5\">\n<title>1-&gt;5</title>\n<path d=\"M519,-192.9465C519,-184.776 519,-175.9318 519,-167.3697\" fill=\"none\" stroke=\"#000000\"/>\n<polygon fill=\"#000000\" points=\"522.5001,-167.13 519,-157.13 515.5001,-167.13 522.5001,-167.13\" stroke=\"#000000\"/>\n</g>\n<!-- 3 -->\n<g class=\"node\" id=\"node4\">\n<title>3</title>\n<polygon fill=\"#ffffff\" points=\"152,-53 0,-53 0,0 152,0 152,-53\" stroke=\"#000000\"/>\n<text fill=\"#000000\" font-family=\"Helvetica,sans-Serif\" font-size=\"14.00\" text-anchor=\"middle\" x=\"76\" y=\"-37.8\">squared_error = 0.99</text>\n<text fill=\"#000000\" font-family=\"Helvetica,sans-Serif\" font-size=\"14.00\" text-anchor=\"middle\" x=\"76\" y=\"-22.8\">samples = 4</text>\n<text fill=\"#000000\" font-family=\"Helvetica,sans-Serif\" font-size=\"14.00\" text-anchor=\"middle\" x=\"76\" y=\"-7.8\">value = 1.125</text>\n</g>\n<!-- 2&#45;&gt;3 -->\n<g class=\"edge\" id=\"edge3\">\n<title>2-&gt;3</title>\n<path d=\"M189.3015,-88.9777C171.1173,-78.9504 151.3003,-68.0228 133.3979,-58.1508\" fill=\"none\" stroke=\"#000000\"/>\n<polygon fill=\"#000000\" points=\"134.6763,-54.859 124.2293,-53.095 131.2961,-60.9888 134.6763,-54.859\" stroke=\"#000000\"/>\n</g>\n<!-- 4 -->\n<g class=\"node\" id=\"node5\">\n<title>4</title>\n<polygon fill=\"#f9e3d3\" points=\"331.5,-53 170.5,-53 170.5,0 331.5,0 331.5,-53\" stroke=\"#000000\"/>\n<text fill=\"#000000\" font-family=\"Helvetica,sans-Serif\" font-size=\"14.00\" text-anchor=\"middle\" x=\"251\" y=\"-37.8\">squared_error = 1.416</text>\n<text fill=\"#000000\" font-family=\"Helvetica,sans-Serif\" font-size=\"14.00\" text-anchor=\"middle\" x=\"251\" y=\"-22.8\">samples = 14</text>\n<text fill=\"#000000\" font-family=\"Helvetica,sans-Serif\" font-size=\"14.00\" text-anchor=\"middle\" x=\"251\" y=\"-7.8\">value = 2.823</text>\n</g>\n<!-- 2&#45;&gt;4 -->\n<g class=\"edge\" id=\"edge4\">\n<title>2-&gt;4</title>\n<path d=\"M251,-88.9777C251,-80.7364 251,-71.887 251,-63.5153\" fill=\"none\" stroke=\"#000000\"/>\n<polygon fill=\"#000000\" points=\"254.5001,-63.2484 251,-53.2485 247.5001,-63.2485 254.5001,-63.2484\" stroke=\"#000000\"/>\n</g>\n<!-- 6 -->\n<g class=\"node\" id=\"node7\">\n<title>6</title>\n<polygon fill=\"#f6d2b8\" points=\"510.5,-53 349.5,-53 349.5,0 510.5,0 510.5,-53\" stroke=\"#000000\"/>\n<text fill=\"#000000\" font-family=\"Helvetica,sans-Serif\" font-size=\"14.00\" text-anchor=\"middle\" x=\"430\" y=\"-37.8\">squared_error = 0.913</text>\n<text fill=\"#000000\" font-family=\"Helvetica,sans-Serif\" font-size=\"14.00\" text-anchor=\"middle\" x=\"430\" y=\"-22.8\">samples = 19</text>\n<text fill=\"#000000\" font-family=\"Helvetica,sans-Serif\" font-size=\"14.00\" text-anchor=\"middle\" x=\"430\" y=\"-7.8\">value = 3.863</text>\n</g>\n<!-- 5&#45;&gt;6 -->\n<g class=\"edge\" id=\"edge6\">\n<title>5-&gt;6</title>\n<path d=\"M487.6219,-88.9777C479.1766,-79.8207 470.0389,-69.9129 461.5825,-60.744\" fill=\"none\" stroke=\"#000000\"/>\n<polygon fill=\"#000000\" points=\"464.0221,-58.2266 454.6696,-53.2485 458.8764,-62.9723 464.0221,-58.2266\" stroke=\"#000000\"/>\n</g>\n<!-- 7 -->\n<g class=\"node\" id=\"node8\">\n<title>7</title>\n<polygon fill=\"#f3c3a1\" points=\"689.5,-53 528.5,-53 528.5,0 689.5,0 689.5,-53\" stroke=\"#000000\"/>\n<text fill=\"#000000\" font-family=\"Helvetica,sans-Serif\" font-size=\"14.00\" text-anchor=\"middle\" x=\"609\" y=\"-37.8\">squared_error = 0.709</text>\n<text fill=\"#000000\" font-family=\"Helvetica,sans-Serif\" font-size=\"14.00\" text-anchor=\"middle\" x=\"609\" y=\"-22.8\">samples = 18</text>\n<text fill=\"#000000\" font-family=\"Helvetica,sans-Serif\" font-size=\"14.00\" text-anchor=\"middle\" x=\"609\" y=\"-7.8\">value = 4.748</text>\n</g>\n<!-- 5&#45;&gt;7 -->\n<g class=\"edge\" id=\"edge7\">\n<title>5-&gt;7</title>\n<path d=\"M550.7306,-88.9777C559.2708,-79.8207 568.5113,-69.9129 577.0626,-60.744\" fill=\"none\" stroke=\"#000000\"/>\n<polygon fill=\"#000000\" points=\"579.7923,-62.9488 584.0532,-53.2485 574.6731,-58.1744 579.7923,-62.9488\" stroke=\"#000000\"/>\n</g>\n<!-- 9 -->\n<g class=\"node\" id=\"node10\">\n<title>9</title>\n<polygon fill=\"#eeab7b\" points=\"949.5,-157 788.5,-157 788.5,-89 949.5,-89 949.5,-157\" stroke=\"#000000\"/>\n<text fill=\"#000000\" font-family=\"Helvetica,sans-Serif\" font-size=\"14.00\" text-anchor=\"middle\" x=\"869\" y=\"-141.8\">Publications &lt;= 49.0</text>\n<text fill=\"#000000\" font-family=\"Helvetica,sans-Serif\" font-size=\"14.00\" text-anchor=\"middle\" x=\"869\" y=\"-126.8\">squared_error = 0.084</text>\n<text fill=\"#000000\" font-family=\"Helvetica,sans-Serif\" font-size=\"14.00\" text-anchor=\"middle\" x=\"869\" y=\"-111.8\">samples = 13</text>\n<text fill=\"#000000\" font-family=\"Helvetica,sans-Serif\" font-size=\"14.00\" text-anchor=\"middle\" x=\"869\" y=\"-96.8\">value = 6.216</text>\n</g>\n<!-- 8&#45;&gt;9 -->\n<g class=\"edge\" id=\"edge9\">\n<title>8-&gt;9</title>\n<path d=\"M869,-192.9465C869,-184.776 869,-175.9318 869,-167.3697\" fill=\"none\" stroke=\"#000000\"/>\n<polygon fill=\"#000000\" points=\"872.5001,-167.13 869,-157.13 865.5001,-167.13 872.5001,-167.13\" stroke=\"#000000\"/>\n</g>\n<!-- 12 -->\n<g class=\"node\" id=\"node13\">\n<title>12</title>\n<polygon fill=\"#e78b49\" points=\"1210.5,-157 1049.5,-157 1049.5,-89 1210.5,-89 1210.5,-157\" stroke=\"#000000\"/>\n<text fill=\"#000000\" font-family=\"Helvetica,sans-Serif\" font-size=\"14.00\" text-anchor=\"middle\" x=\"1130\" y=\"-141.8\">Publications &lt;= 161.5</text>\n<text fill=\"#000000\" font-family=\"Helvetica,sans-Serif\" font-size=\"14.00\" text-anchor=\"middle\" x=\"1130\" y=\"-126.8\">squared_error = 1.073</text>\n<text fill=\"#000000\" font-family=\"Helvetica,sans-Serif\" font-size=\"14.00\" text-anchor=\"middle\" x=\"1130\" y=\"-111.8\">samples = 23</text>\n<text fill=\"#000000\" font-family=\"Helvetica,sans-Serif\" font-size=\"14.00\" text-anchor=\"middle\" x=\"1130\" y=\"-96.8\">value = 8.185</text>\n</g>\n<!-- 8&#45;&gt;12 -->\n<g class=\"edge\" id=\"edge12\">\n<title>8-&gt;12</title>\n<path d=\"M949.7946,-194.806C978.2991,-183.4479 1010.5234,-170.6075 1039.7592,-158.958\" fill=\"none\" stroke=\"#000000\"/>\n<polygon fill=\"#000000\" points=\"1041.1438,-162.174 1049.1378,-155.2209 1038.5526,-155.6712 1041.1438,-162.174\" stroke=\"#000000\"/>\n</g>\n<!-- 10 -->\n<g class=\"node\" id=\"node11\">\n<title>10</title>\n<polygon fill=\"#eeac7d\" points=\"868.5,-53 707.5,-53 707.5,0 868.5,0 868.5,-53\" stroke=\"#000000\"/>\n<text fill=\"#000000\" font-family=\"Helvetica,sans-Serif\" font-size=\"14.00\" text-anchor=\"middle\" x=\"788\" y=\"-37.8\">squared_error = 0.058</text>\n<text fill=\"#000000\" font-family=\"Helvetica,sans-Serif\" font-size=\"14.00\" text-anchor=\"middle\" x=\"788\" y=\"-22.8\">samples = 12</text>\n<text fill=\"#000000\" font-family=\"Helvetica,sans-Serif\" font-size=\"14.00\" text-anchor=\"middle\" x=\"788\" y=\"-7.8\">value = 6.166</text>\n</g>\n<!-- 9&#45;&gt;10 -->\n<g class=\"edge\" id=\"edge10\">\n<title>9-&gt;10</title>\n<path d=\"M840.4424,-88.9777C832.8331,-79.9123 824.6061,-70.111 816.9747,-61.0192\" fill=\"none\" stroke=\"#000000\"/>\n<polygon fill=\"#000000\" points=\"819.562,-58.6577 810.4521,-53.2485 814.2005,-63.1581 819.562,-58.6577\" stroke=\"#000000\"/>\n</g>\n<!-- 11 -->\n<g class=\"node\" id=\"node12\">\n<title>11</title>\n<polygon fill=\"#eca16c\" points=\"1031,-53 887,-53 887,0 1031,0 1031,-53\" stroke=\"#000000\"/>\n<text fill=\"#000000\" font-family=\"Helvetica,sans-Serif\" font-size=\"14.00\" text-anchor=\"middle\" x=\"959\" y=\"-37.8\">squared_error = 0.0</text>\n<text fill=\"#000000\" font-family=\"Helvetica,sans-Serif\" font-size=\"14.00\" text-anchor=\"middle\" x=\"959\" y=\"-22.8\">samples = 1</text>\n<text fill=\"#000000\" font-family=\"Helvetica,sans-Serif\" font-size=\"14.00\" text-anchor=\"middle\" x=\"959\" y=\"-7.8\">value = 6.82</text>\n</g>\n<!-- 9&#45;&gt;11 -->\n<g class=\"edge\" id=\"edge11\">\n<title>9-&gt;11</title>\n<path d=\"M900.7306,-88.9777C909.2708,-79.8207 918.5113,-69.9129 927.0626,-60.744\" fill=\"none\" stroke=\"#000000\"/>\n<polygon fill=\"#000000\" points=\"929.7923,-62.9488 934.0532,-53.2485 924.6731,-58.1744 929.7923,-62.9488\" stroke=\"#000000\"/>\n</g>\n<!-- 13 -->\n<g class=\"node\" id=\"node14\">\n<title>13</title>\n<polygon fill=\"#e9965a\" points=\"1210.5,-53 1049.5,-53 1049.5,0 1210.5,0 1210.5,-53\" stroke=\"#000000\"/>\n<text fill=\"#000000\" font-family=\"Helvetica,sans-Serif\" font-size=\"14.00\" text-anchor=\"middle\" x=\"1130\" y=\"-37.8\">squared_error = 0.844</text>\n<text fill=\"#000000\" font-family=\"Helvetica,sans-Serif\" font-size=\"14.00\" text-anchor=\"middle\" x=\"1130\" y=\"-22.8\">samples = 11</text>\n<text fill=\"#000000\" font-family=\"Helvetica,sans-Serif\" font-size=\"14.00\" text-anchor=\"middle\" x=\"1130\" y=\"-7.8\">value = 7.528</text>\n</g>\n<!-- 12&#45;&gt;13 -->\n<g class=\"edge\" id=\"edge13\">\n<title>12-&gt;13</title>\n<path d=\"M1130,-88.9777C1130,-80.7364 1130,-71.887 1130,-63.5153\" fill=\"none\" stroke=\"#000000\"/>\n<polygon fill=\"#000000\" points=\"1133.5001,-63.2484 1130,-53.2485 1126.5001,-63.2485 1133.5001,-63.2484\" stroke=\"#000000\"/>\n</g>\n<!-- 14 -->\n<g class=\"node\" id=\"node15\">\n<title>14</title>\n<polygon fill=\"#e58139\" points=\"1389.5,-53 1228.5,-53 1228.5,0 1389.5,0 1389.5,-53\" stroke=\"#000000\"/>\n<text fill=\"#000000\" font-family=\"Helvetica,sans-Serif\" font-size=\"14.00\" text-anchor=\"middle\" x=\"1309\" y=\"-37.8\">squared_error = 0.525</text>\n<text fill=\"#000000\" font-family=\"Helvetica,sans-Serif\" font-size=\"14.00\" text-anchor=\"middle\" x=\"1309\" y=\"-22.8\">samples = 12</text>\n<text fill=\"#000000\" font-family=\"Helvetica,sans-Serif\" font-size=\"14.00\" text-anchor=\"middle\" x=\"1309\" y=\"-7.8\">value = 8.788</text>\n</g>\n<!-- 12&#45;&gt;14 -->\n<g class=\"edge\" id=\"edge14\">\n<title>12-&gt;14</title>\n<path d=\"M1193.1087,-88.9777C1211.8792,-78.8584 1232.3506,-67.8222 1250.7937,-57.8794\" fill=\"none\" stroke=\"#000000\"/>\n<polygon fill=\"#000000\" points=\"1252.5268,-60.9213 1259.6683,-53.095 1249.205,-54.7597 1252.5268,-60.9213\" stroke=\"#000000\"/>\n</g>\n</g>\n</svg>"
          },
          "metadata": {}
        }
      ]
    }
  ]
}